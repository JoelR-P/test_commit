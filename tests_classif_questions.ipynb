{
 "cells": [
  {
   "cell_type": "code",
   "execution_count": 13,
   "id": "ad61b5ff-eb5d-4e40-866e-2c1d378c1bd4",
   "metadata": {
    "tags": []
   },
   "outputs": [],
   "source": [
    "import os\n",
    "os.environ['OPENAI_API_KEY']=\"API_KEY\" # À Modifier"
   ]
  },
  {
   "cell_type": "code",
   "execution_count": 14,
   "id": "1c956f62-3b11-4920-8ae3-6a00c8c68ce6",
   "metadata": {
    "tags": []
   },
   "outputs": [],
   "source": [
    "from langchain_openai import OpenAI\n",
    "\n",
    "# initialize the models\n",
    "llm = OpenAI(\n",
    "    model_name=\"gpt-3.5-turbo-instruct\",\n",
    ")"
   ]
  },
  {
   "cell_type": "code",
   "execution_count": 15,
   "id": "09b16c55-ed8e-452e-b1c4-24e3d89a0be6",
   "metadata": {
    "tags": []
   },
   "outputs": [],
   "source": [
    "example = [\n",
    "{\"query\" : \"analyse de l'évolution du de PNB trimestriel entre T2-22 et T2-23 ? \",\n",
    " \"answer\" : \"Explication\"\n",
    "},{\n",
    "\"query\" : \"rationnel de l'évolution du de PNB trimetriel entre T2-22 et T2-23 ?\",\n",
    "\"answer\": \"Explication\"\n",
    "},{\n",
    "\"query\" : \"Singularité de la trajectoire de PNB entre T2-22 et T2-23 ?\",\n",
    "\"answer\" : \"Description\"\n",
    "},{\n",
    "\"query\" : \"analyse comparée des trajectoires de PNB et de FG entre T2-22 et T2-23 ? \",\n",
    "\"answer\" : \"Comparaison\"\n",
    "}\n",
    "]"
   ]
  },
  {
   "cell_type": "code",
   "execution_count": 16,
   "id": "8da10d36-8a62-4ba7-be9a-a37586b88a19",
   "metadata": {
    "tags": []
   },
   "outputs": [],
   "source": [
    "from langchain import FewShotPromptTemplate\n",
    "from langchain import PromptTemplate\n",
    "\n",
    "example_template = \"\"\"\n",
    "Question: {query}\n",
    "Réponse: {answer}\n",
    "\"\"\"\n",
    "\n",
    "example_prompt = PromptTemplate(\n",
    "    input_variables=[\"query\", \"answer\"],\n",
    "    template=example_template)\n",
    "\n",
    "\n",
    "prefix=\"\"\"Classe la question posée simplement dans l'une des trois catégories suivantes : Explication, Description, ou Comparaison. Si tu ne sais pas, réponds  'jsp'\"\"\"\n",
    "\n",
    "suffix= \"\"\"\n",
    "User : {query}\n",
    "AI:\"\"\"\n",
    "     \n",
    "few_shot_prompt_template = FewShotPromptTemplate(\n",
    "    examples=example,\n",
    "    example_prompt=example_prompt,\n",
    "    prefix=prefix,\n",
    "    suffix=suffix,\n",
    "    input_variables=[\"query\"],\n",
    "    example_separator=\"\\n\\n\")\n",
    "    \n",
    "    "
   ]
  },
  {
   "cell_type": "code",
   "execution_count": 17,
   "id": "5414d7db-86fc-4b74-8e34-f9dcc920ea4d",
   "metadata": {
    "tags": []
   },
   "outputs": [],
   "source": [
    "query=\"Peux-tu identifier les singularités de la trajectoire mensuelle de FG en 2023\"\n"
   ]
  },
  {
   "cell_type": "code",
   "execution_count": 18,
   "id": "22728a4f-3e4c-4084-8036-fb151d380a3a",
   "metadata": {
    "tags": []
   },
   "outputs": [],
   "source": [
    "réponse = llm.invoke(few_shot_prompt_template.format(query=query))"
   ]
  },
  {
   "cell_type": "code",
   "execution_count": 19,
   "id": "6a54b927-9e34-46b9-a447-4fb6975f034c",
   "metadata": {},
   "outputs": [
    {
     "name": "stdout",
     "output_type": "stream",
     "text": [
      " jsp\n"
     ]
    }
   ],
   "source": [
    "print(réponse)"
   ]
  },
  {
   "cell_type": "code",
   "execution_count": 23,
   "id": "63e4a9bb-5dfe-4cd7-b82e-8ca61da2fb4c",
   "metadata": {
    "tags": []
   },
   "outputs": [],
   "source": [
    "example2 = [\n",
    "{\"query\" : \"analyse de l'évolution du PNB trimestriel entre T2-22 et T2-23 ? \",\n",
    " \"answer\" : \"Objet1 : PNB, Objet2 : Non Précisé, période départ : T2-22 , Période fin : T2-23 , Fréquence : trimestrielle\"\n",
    "},{\n",
    "\"query\" : \"rationnel de l'évolution des FG mensuels entre T2-22 et T2-23 ?\",\n",
    " \"answer\" : \"Objet1 : FG , Objet : Non précisé ,période départ : T2-22 , Période fin : T2-2 , Fréquence : mensuelle\"\n",
    "},{\n",
    "\"query\" : \"Singularité de la trajectoire semi-annuelle de frais de personnel entre H1-20 et H2-24 ?\",\n",
    " \"answer\" : \"Objet1 : Frais de personnel , Objet2 : Non précisé , période départ : T2-22 , Période fin : T2-23 , Fréquence : semi-annuelle\"\n",
    "},{\n",
    "\"query\" : \"analyse comparée des trajectoires des dépenses et du PNB entre T2-22 et T2-23 ? \",\n",
    " \"answer\" : \"Objet1 : Dépenses , Objet2 : PNB , période départ : T2-22 , Période fin : T2-2 , Fréquence : Non précisée\"\n",
    "}\n",
    "]"
   ]
  },
  {
   "cell_type": "code",
   "execution_count": 24,
   "id": "1b90f9d3-0ce5-41af-a937-b967d143641d",
   "metadata": {
    "tags": []
   },
   "outputs": [],
   "source": [
    "example_template = \"\"\"\n",
    "Question: {query}\n",
    "Réponse: {answer}\n",
    "\"\"\"\n",
    "\n",
    "example_prompt2 = PromptTemplate(\n",
    "    input_variables=[\"query\", \"answer\"],\n",
    "    template=example_template)\n",
    "\n",
    "\n",
    "prefix2=\"\"\"Peux-tu extraire les 'paramètres' de cette {réponse} - Réponds de la façon la plus succincte possible\"\"\"\n",
    "\n",
    "suffix2= \"\"\"\n",
    "User : {query}\n",
    "AI:\"\"\"\n",
    "     \n",
    "few_shot_prompt_template2 = FewShotPromptTemplate(\n",
    "    examples=example2,\n",
    "    example_prompt=example_prompt2,\n",
    "    prefix=prefix2,\n",
    "    suffix=suffix2,\n",
    "    input_variables=[\"réponse\",\"query\"],\n",
    "    example_separator=\"\\n\\n\")\n",
    "    "
   ]
  },
  {
   "cell_type": "code",
   "execution_count": 25,
   "id": "d3c5f34f-b879-4c31-99f8-f9e15dbaee29",
   "metadata": {
    "tags": []
   },
   "outputs": [],
   "source": [
    "réponse2 = llm.invoke(few_shot_prompt_template2.format(réponse=réponse,query=query))"
   ]
  },
  {
   "cell_type": "code",
   "execution_count": 27,
   "id": "19a6f445-641c-44ca-99f4-e71438de1111",
   "metadata": {
    "tags": []
   },
   "outputs": [
    {
     "name": "stdout",
     "output_type": "stream",
     "text": [
      " Objet1 : FG, Objet2 : Non précisé, période départ : Janvier 2023, période fin : Décembre 2023, Fréquence : mensuelle\n"
     ]
    }
   ],
   "source": [
    "print(réponse2)"
   ]
  },
  {
   "cell_type": "code",
   "execution_count": 30,
   "id": "a8f94b9b-f740-45d8-ac3b-69b9154eec57",
   "metadata": {},
   "outputs": [
    {
     "name": "stdout",
     "output_type": "stream",
     "text": [
      "{\"Objet1\": \"FG\", \"Objet2\": \"Non précisé\", \"période départ\": \"Janvier 2023\", \"période fin\": \"Décembre 2023\", \"Fréquence\": \"mensuelle\"}\n"
     ]
    }
   ],
   "source": [
    "import json\n",
    "\n",
    "# Séparation des informations en utilisant la virgule comme délimiteur\n",
    "infos = [info.strip() for info in réponse2.split(',')]\n",
    "\n",
    "# Création d'un dictionnaire pour stocker les informations\n",
    "dictionnaire_infos = {}\n",
    "for info in infos:\n",
    "    cle, valeur = info.split(':')\n",
    "    dictionnaire_infos[cle.strip()] = valeur.strip()\n",
    "\n",
    "# Conversion du dictionnaire en format JSON\n",
    "json_resultat = json.dumps(dictionnaire_infos, ensure_ascii=False)\n",
    "\n",
    "# Affichage du résultat au format JSON\n",
    "print(json_resultat)"
   ]
  },
  {
   "cell_type": "code",
   "execution_count": 37,
   "id": "229c07d0-7301-4579-bd63-8cf3db168af2",
   "metadata": {
    "tags": []
   },
   "outputs": [
    {
     "name": "stdout",
     "output_type": "stream",
     "text": [
      "Janvier 2023\n"
     ]
    }
   ],
   "source": [
    "dictionnaire_infos = json.loads(json_resultat)\n",
    "\n",
    "# Accéder à un élément du dictionnaire\n",
    "print(dictionnaire_infos[\"période départ\"])  # Affiche : FG\n"
   ]
  },
  {
   "cell_type": "code",
   "execution_count": null,
   "id": "c8c57ac8-fa23-436c-8b46-576cb10e0ee9",
   "metadata": {},
   "outputs": [],
   "source": []
  }
 ],
 "metadata": {
  "kernelspec": {
   "display_name": "Python 3 (ipykernel)",
   "language": "python",
   "name": "python3"
  },
  "language_info": {
   "codemirror_mode": {
    "name": "ipython",
    "version": 3
   },
   "file_extension": ".py",
   "mimetype": "text/x-python",
   "name": "python",
   "nbconvert_exporter": "python",
   "pygments_lexer": "ipython3",
   "version": "3.11.5"
  }
 },
 "nbformat": 4,
 "nbformat_minor": 5
}
